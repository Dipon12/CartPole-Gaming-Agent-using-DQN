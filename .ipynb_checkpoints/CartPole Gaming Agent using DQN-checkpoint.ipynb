{
 "cells": [
  {
   "cell_type": "markdown",
   "metadata": {},
   "source": [
    "#### To Select CUDA Processor"
   ]
  },
  {
   "cell_type": "code",
   "execution_count": null,
   "metadata": {},
   "outputs": [],
   "source": [
    "import os\n",
    "\n",
    "os.environ[\"CUDA_DEVICE_ORDER\"] = \"PCI_BUS_ID\"\n",
    "os.environ[\"CUDA_VISIBLE_DEVICES\"]= \"2\""
   ]
  },
  {
   "cell_type": "code",
   "execution_count": null,
   "metadata": {},
   "outputs": [],
   "source": [
    "!nvcc --version"
   ]
  },
  {
   "cell_type": "code",
   "execution_count": null,
   "metadata": {},
   "outputs": [],
   "source": [
    "#from tensorflow.python.client import device_lib\n",
    "#print(device_lib.list_local_devices())"
   ]
  },
  {
   "cell_type": "code",
   "execution_count": null,
   "metadata": {},
   "outputs": [],
   "source": [
    "import random\n",
    "import gym\n",
    "import numpy as np\n",
    "from collections import deque\n",
    "from tensorflow.keras.models import Sequential\n",
    "from tensorflow.keras.layers import Dense\n",
    "from tensorflow.keras.optimizers import Adam"
   ]
  },
  {
   "cell_type": "code",
   "execution_count": null,
   "metadata": {},
   "outputs": [],
   "source": [
    "!nvidia-smi"
   ]
  },
  {
   "cell_type": "markdown",
   "metadata": {},
   "source": [
    "#### Set Parameters"
   ]
  },
  {
   "cell_type": "code",
   "execution_count": null,
   "metadata": {},
   "outputs": [],
   "source": [
    "env = gym.make('CartPole-v0')"
   ]
  },
  {
   "cell_type": "code",
   "execution_count": null,
   "metadata": {},
   "outputs": [],
   "source": [
    "state_size = env.observation_space.shape[0] \n",
    "action_size = env.action_space.n\n",
    "\n",
    "print(f\"State {state_size}   Actions {action_size}\")"
   ]
  },
  {
   "cell_type": "code",
   "execution_count": null,
   "metadata": {},
   "outputs": [],
   "source": [
    "batch_size = 32\n",
    "\n",
    "n_episodes = 1000 # No. of times the agent will play the game"
   ]
  },
  {
   "cell_type": "code",
   "execution_count": null,
   "metadata": {},
   "outputs": [],
   "source": [
    "output_dir = \"model_output/cartpole\"\n",
    "\n",
    "if not os.path.exists(output_dir):\n",
    "    os.makedirs(output_dir)"
   ]
  },
  {
   "cell_type": "markdown",
   "metadata": {},
   "source": [
    "#### Defining Agent"
   ]
  },
  {
   "cell_type": "code",
   "execution_count": null,
   "metadata": {},
   "outputs": [],
   "source": [
    "class DQNAgent:\n",
    "    \n",
    "    def __init__(self, state_size,action_size):\n",
    "        \n",
    "        self.state_size = state_size\n",
    "        self.action_size = action_size\n",
    "        \n",
    "        self.memory = deque(maxlen = 2000) #To remember something from each episode. Its one type of Python list\n",
    "        \n",
    "        self.gamma = 0.95\n",
    "        \n",
    "        self.epsilon = 1\n",
    "        self.epsilon_decay = 0.995\n",
    "        self.epsilon_min = 0.01\n",
    "        \n",
    "        self.learning_rate = 0.001\n",
    "        \n",
    "        self.model = self._build_model()\n",
    "        \n",
    "        \n",
    "    def _build_model(self):\n",
    "        \"\"\"\n",
    "        \n",
    "        This Method takes state as input and outputs which actions to take\n",
    "        \n",
    "        input: State\n",
    "        Output: Reward value for each action from a State\n",
    "        \"\"\"\n",
    "        \n",
    "        model = Sequential([\n",
    "            Dense(24, input_dim = self.state_size, activation = 'relu'),\n",
    "            Dense(24, activation = 'relu'),\n",
    "            \n",
    "            Dense(self.action_size, activation = 'linear')\n",
    "        ])\n",
    "        \n",
    "        \n",
    "        model.compile(loss='mse', optimizer = Adam (lr = self.learning_rate)) # For this particular work MSE found to be better loss function\n",
    "        \n",
    "        return model\n",
    "        \n",
    "    def remember(self, state, action, reward, next_state, done):\n",
    "        \n",
    "        \"\"\"\n",
    "        Important Function. Remembers each episodes.\n",
    "        \n",
    "        done: this variable indicates whether the episode ended\n",
    "        \"\"\"\n",
    "        \n",
    "        self.memory.append((state, action, reward, next_state, done))\n",
    "        \n",
    "        \n",
    "    def act(self, state):\n",
    "        \n",
    "        \"\"\"\n",
    "        Selects Action. \n",
    "        For Exploration returns random action.\n",
    "        For Exploitation returns the predicted action from model.\n",
    "        \"\"\"\n",
    "        \n",
    "        \n",
    "        if np.random.rand()<=self.epsilon:\n",
    "            return random.randrange(self.action_size)\n",
    "        else:\n",
    "            reward_values = self.model.predict(state)\n",
    "            return np.argmax(reward_values[0]) #Mane J action er jnno bshi value oita return korbe\n",
    "        \n",
    "\n",
    "    \n",
    "    def replay(self, batch_size):\n",
    "        \n",
    "        minibatch = random.sample(self.memory, batch_size) # Picks sample from self.memory. How many samples?\n",
    "                                                        # batch_size number of samples.\n",
    "                                                        # On each sample we have state, action, reward, next_state, done\n",
    "        \n",
    "        \n",
    "        for state, action, reward, next_state, done in minibatch:\n",
    "            target = reward # if episode is done then target is the reward received.\n",
    "            \n",
    "            if not done: # if episode is yet to end, we need to predict the future reward for each state \n",
    "                \n",
    "                reward_next = np.amax(self.model.predict(next_state)[0]) \n",
    "                target = (reward + self.gamma * reward_next) # predicts reward\n",
    "                \n",
    "            target_f = self.model.predict(state) \n",
    "            target_f[0][action] = target # updates the reward for that action from that state\n",
    "            \n",
    "            \n",
    "            self.model.fit(state, target_f, epochs =1, verbose = 0) #trains the model for predicting rewards\n",
    "            \n",
    "        \n",
    "            \n",
    "            \n",
    "        if self.epsilon > self.epsilon_min:\n",
    "            self.epsilon = self.epsilon * self.epsilon_decay\n",
    "            \n",
    "    \n",
    "    \n",
    "    def load(self, name):\n",
    "        self.model.load_weights(name)\n",
    "        \n",
    "        \n",
    "        \n",
    "    def save(self, name):\n",
    "        self.model.save_weights(name)\n",
    "            \n",
    "            \n",
    "\n",
    "        "
   ]
  },
  {
   "cell_type": "code",
   "execution_count": null,
   "metadata": {},
   "outputs": [],
   "source": [
    "agent = DQNAgent(state_size, action_size)"
   ]
  },
  {
   "cell_type": "markdown",
   "metadata": {},
   "source": [
    "#### Interaction with environment"
   ]
  },
  {
   "cell_type": "code",
   "execution_count": null,
   "metadata": {
    "scrolled": false
   },
   "outputs": [],
   "source": [
    "done = False\n",
    "\n",
    "for e in range(n_episodes):\n",
    "    \n",
    "    state = env.reset()\n",
    "    state = np.reshape(state, [1,state_size])\n",
    "    \n",
    "    for time in range(5000):\n",
    "        \n",
    "        env.render()\n",
    "        action = agent.act(state)\n",
    "        \n",
    "        next_state, reward, done, _ = env.step(action)\n",
    "        \n",
    "        if not done: # Final Goal Achieve kortese nki check. Done = True hole loop theke ber hbe. check kore dkho porer if ta\n",
    "            reward = reward\n",
    "        else:\n",
    "            reward = -10\n",
    "            \n",
    "        next_state = np.reshape(next_state, [1,state_size])\n",
    "        \n",
    "        agent.remember(state, action, reward, next_state, done)\n",
    "        \n",
    "        state = next_state\n",
    "        \n",
    "        if done:\n",
    "            print(f\"episode: {e}/{n_episodes},  score:{time}.  epsilon:{agent.epsilon} \")\n",
    "            break\n",
    "        \n",
    "        \n",
    "\n",
    "        \n",
    "    if len(agent.memory) > batch_size:\n",
    "        agent.replay(batch_size)\n",
    "        \n",
    "        \n",
    "        \n",
    "    if e%50 == 0:\n",
    "        agent.save(output_dir+\"weights.hdf5\")\n",
    "    "
   ]
  },
  {
   "cell_type": "code",
   "execution_count": null,
   "metadata": {},
   "outputs": [],
   "source": []
  },
  {
   "cell_type": "code",
   "execution_count": null,
   "metadata": {},
   "outputs": [],
   "source": []
  }
 ],
 "metadata": {
  "kernelspec": {
   "display_name": "Python 3",
   "language": "python",
   "name": "python3"
  },
  "language_info": {
   "codemirror_mode": {
    "name": "ipython",
    "version": 3
   },
   "file_extension": ".py",
   "mimetype": "text/x-python",
   "name": "python",
   "nbconvert_exporter": "python",
   "pygments_lexer": "ipython3",
   "version": "3.8.3"
  }
 },
 "nbformat": 4,
 "nbformat_minor": 4
}
